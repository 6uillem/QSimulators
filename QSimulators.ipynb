{
 "cells": [
  {
   "cell_type": "markdown",
   "id": "b0f7d2ee-1944-4442-b21c-37357f0e8c21",
   "metadata": {},
   "source": [
    "## Exercise: Exact Diagonalization"
   ]
  },
  {
   "cell_type": "code",
   "execution_count": 1,
   "id": "dbe31ca0-58ed-4290-bbe1-75b9ae846f90",
   "metadata": {},
   "outputs": [],
   "source": [
    "# Importing libraries\n",
    "import numpy as np\n",
    "import matplotlib.pyplot as plt\n",
    "from scipy.linalg import eigh \n",
    "from itertools import product\n",
    "import math\n"
   ]
  },
  {
   "cell_type": "code",
   "execution_count": 5,
   "id": "5e99c576-e4e9-4374-8690-fd2617b3bff1",
   "metadata": {},
   "outputs": [
    {
     "name": "stdout",
     "output_type": "stream",
     "text": [
      "basis for N = 3 L = 6 : [[0 0 3 0 0 0 0]\n",
      " [0 1 1 1 0 0 0]\n",
      " [0 2 0 0 1 0 0]\n",
      " [1 0 0 2 0 0 0]\n",
      " [1 0 1 0 1 0 0]\n",
      " [1 1 0 0 0 1 0]\n",
      " [2 0 0 0 0 0 1]]\n",
      "Number of elements in the basis:  7\n"
     ]
    }
   ],
   "source": [
    "#Function that with the constrains of N and L fixed builds the Fock basis\n",
    "def fock_basis(N : int, L : int) -> np.ndarray : \n",
    "    \"\"\"Generates the Fock basis\n",
    "\n",
    "    Args: \n",
    "        N: number of atoms (int)\n",
    "        L : total angular momentum (int)\n",
    "        \n",
    "    Return:\n",
    "        basis (array): Elements of the Fock basis\n",
    "    \"\"\"\n",
    "    basis = []\n",
    "    for element in product(range(N + 1), repeat =  L + 1):\n",
    "        if sum(element) == N: \n",
    "            if sum(l * n for l, n in enumerate(element)) == L:\n",
    "                basis.append(element)\n",
    "    \n",
    "    return np.array(basis)\n",
    "\n",
    "#Example of a basis for a given N and l\n",
    "N = 3\n",
    "L = 6\n",
    "basis = fock_basis(N , L )\n",
    "print('basis for N =', N, 'L =', L, ':', basis )\n",
    "print('Number of elements in the basis: ', len(basis))"
   ]
  },
  {
   "cell_type": "code",
   "execution_count": 4,
   "id": "f62bfa17-24de-4bbe-ae73-6b5e98bd7f45",
   "metadata": {},
   "outputs": [],
   "source": [
    "#Useful functions to calculate the Hamiltonian \n",
    "def h_single_particle(L : int, adim_freq: float) -> float:\n",
    "    ''' Calculates the diagonal single particle eigenergies for a given L\n",
    "\n",
    "    Args:\n",
    "        L: angular momentum of the state\n",
    "        adim_freq: adimensional parameter representing (Ω/w)\n",
    "\n",
    "    Return:\n",
    "        float: single particle eniegenergies for a given angular momentum L.\n",
    "    '''\n",
    "    \n",
    "    return 1 + L*(1 - adim_freq)\n",
    "\n",
    "def integral(k : int, l: int, p: int, q: int) -> float:\n",
    "    '''Calculates the integral of the interaction part matrix element\n",
    "\n",
    "    Args:\n",
    "        k, l, p, q: angular momentum number\n",
    "\n",
    "    Return:\n",
    "        float: value of the integral\n",
    "    '''\n",
    "\n",
    "    if k + l != p + q:\n",
    "        return 0\n",
    "    else:\n",
    "        sqrt = np.sqrt(math.factorial(k)*math.factorial(l)*math.factorial(p)*math.factorial(q))\n",
    "        return (math.factorial(k + l))/(2 * math.pi * sqrt * 2**(k + l))\n",
    "        \n"
   ]
  },
  {
   "cell_type": "code",
   "execution_count": 21,
   "id": "216bf5cd-9ad6-4265-b587-6186deefe379",
   "metadata": {},
   "outputs": [
    {
     "data": {
      "text/plain": [
       "array([[5.64920776+0.j, 0.04873105+0.j, 0.04873105+0.j, 0.01722903+0.j,\n",
       "        0.        +0.j],\n",
       "       [0.04873105+0.j, 5.61936621+0.j, 0.03978874+0.j, 0.02813488+0.j,\n",
       "        0.        +0.j],\n",
       "       [0.04873105+0.j, 0.03978874+0.j, 5.60941902+0.j, 0.03516861+0.j,\n",
       "        0.02224258+0.j],\n",
       "       [0.01722903+0.j, 0.02813488+0.j, 0.03516861+0.j, 5.61439262+0.j,\n",
       "        0.01572788+0.j],\n",
       "       [0.        +0.j, 0.        +0.j, 0.02224258+0.j, 0.01572788+0.j,\n",
       "        5.58952466+0.j]])"
      ]
     },
     "execution_count": 21,
     "metadata": {},
     "output_type": "execute_result"
    }
   ],
   "source": [
    "#Function to built the full Hamiltonian matrix\n",
    "\n",
    "def Hamiltonian (N: int, L : int, g_2D: float) -> np.ndarray:\n",
    "    ''' Function that builts the full hamiltonian\n",
    "\n",
    "    Args: \n",
    "        N: Number of atoms\n",
    "        L: total angular momentum\n",
    "        g_2D: adimensional control parameter\n",
    "\n",
    "    Return:\n",
    "        np.ndarray containing the Hamiltonian of the system\n",
    "    '''\n",
    "\n",
    "    #First we generate the basis\n",
    "    basis = fock_basis(N, L)\n",
    "    basis_elements = len(basis)\n",
    "\n",
    "    #Initialize to zero the Hamiltonian\n",
    "    H = np.zeros((basis_elements, basis_elements), dtype = complex)\n",
    "\n",
    "    for i, state_i in enumerate(basis):\n",
    "        for j, state_j in enumerate(basis):\n",
    "            # Diagonal elements: single-particle energy\n",
    "            if i == j:\n",
    "                H[i, j] = sum(element*h_single_particle(k, adim_freq) for k, element in enumerate(state_i))\n",
    "\n",
    "            #Two-Body part of the Hamiltonian\n",
    "            two_body = 0\n",
    "            for k in range(len(state_i)):\n",
    "                for l in range(len(state_i)):\n",
    "                    for p in range(len(state_i)):\n",
    "                        for q in range(len(state_i)):\n",
    "                            prefactor = 1\n",
    "                            if state_j[q] > 0 and state_j[p] > 0: # Annihilation conditions\n",
    "                                new_state = state_j.copy()\n",
    "                                prefactor *= np.sqrt(new_state[q])\n",
    "                                new_state[q] -= 1\n",
    "                                prefactor*= np.sqrt(new_state[p])\n",
    "                                new_state[p] -= 1\n",
    "                                if new_state[l] < N and new_state[k] < N:  # Creation conditions\n",
    "                                    prefactor *= np.sqrt(new_state[l] + 1)\n",
    "                                    new_state[l] += 1\n",
    "                                    prefactor *= np.sqrt(new_state[k] + 1)\n",
    "                                    new_state[k] += 1\n",
    "                                    if np.array_equal(new_state, state_i):\n",
    "                                         #Takes into account the prefactos of the bosonic operators acting on a state\n",
    "                                        two_body += (\n",
    "                                            g_2D / 2 * prefactor * integral(k, l, p, q)\n",
    "                                        )\n",
    "            H[i, j] += two_body\n",
    "    return H\n",
    "\n",
    "#Example of the full Hamiltonian matrix for a given N and L and some parameters\n",
    "N = 3\n",
    "L = 5\n",
    "adim_freq = 0.5\n",
    "g_2D = 0.5\n",
    "Hamiltonian (N, L, g_2D)"
   ]
  },
  {
   "cell_type": "code",
   "execution_count": 22,
   "id": "fca955c2-142e-4182-a148-0719cd3bc957",
   "metadata": {
    "scrolled": true
   },
   "outputs": [
    {
     "name": "stdout",
     "output_type": "stream",
     "text": [
      "Eigenvalues for L =  0 : [3.23873241+0.j]\n",
      "Eigenvectors for L = 0 : [[1.+0.j]]\n",
      "Eigenvalues for L =  1 : [3.73873241+0.j]\n",
      "Eigenvectors for L = 1 : [[1.+0.j]]\n",
      "Eigenvalues for L =  2 : [4.23873241+0.j 4.11936621+0.j]\n",
      "Eigenvectors for L = 2 : [[ 0.81649658+0.j -0.57735027+0.j]\n",
      " [ 0.57735027-0.j  0.81649658+0.j]]\n",
      "Eigenvalues for L =  3 : [4.73873241+0.j 4.5596831 +0.j 4.61936621+0.j]\n",
      "Eigenvectors for L = 3 : [[ 4.71404521e-01-0.j  6.66666667e-01+0.j -5.77350269e-01+0.j]\n",
      " [ 8.16496581e-01+0.j -5.77350269e-01+0.j -1.79335251e-14+0.j]\n",
      " [ 3.33333333e-01-0.j  4.71404521e-01-0.j  8.16496581e-01+0.j]]\n",
      "Eigenvalues for L =  4 : [5.23873241+0.j 5.11936621+0.j 5.0596831 +0.j 5.08952466+0.j]\n",
      "Eigenvectors for L = 4 : [[ 6.66666667e-01+0.j -5.77350269e-01+0.j -4.71404521e-01+0.j\n",
      "   1.91429847e-14-0.j]\n",
      " [ 4.71404521e-01-0.j  3.51105124e-15-0.j  6.66666667e-01+0.j\n",
      "  -5.77350269e-01+0.j]\n",
      " [ 5.44331054e-01-0.j  4.71404521e-01-0.j  1.92450090e-01+0.j\n",
      "   6.66666667e-01+0.j]\n",
      " [ 1.92450090e-01-0.j  6.66666667e-01+0.j -5.44331054e-01+0.j\n",
      "  -4.71404521e-01+0.j]]\n",
      "Eigenvalues for L =  5 : [5.73873241+0.j 5.61936621+0.j 5.5596831 +0.j 5.57460388+0.j\n",
      " 5.58952466+0.j]\n",
      "Eigenvectors for L = 5 : [[ 0.60858062+0.j -0.54433105+0.j -0.27216553+0.j -0.38490018+0.j\n",
      "   0.33333333+0.j]\n",
      " [ 0.49690399+0.j -0.11111111+0.j -0.22222222+0.j  0.62853936+0.j\n",
      "  -0.54433105+0.j]\n",
      " [ 0.49690399+0.j  0.22222222-0.j  0.77777778+0.j  0.15713484-0.j\n",
      "   0.27216553+0.j]\n",
      " [ 0.35136418+0.j  0.62853936+0.j -0.15713484+0.j -0.55555556+0.j\n",
      "  -0.38490018+0.j]\n",
      " [ 0.11111111+0.j  0.49690399-0.j -0.49690399+0.j  0.35136418-0.j\n",
      "   0.60858062+0.j]]\n",
      "Eigenvalues for L =  6 : [6.23873241+0.j 6.        +0.j 6.11936621+0.j 6.0596831 +0.j\n",
      " 6.07460388+0.j 6.08952466+0.j 6.08206427+0.j]\n",
      "Eigenvectors for L = 6 : [[ 3.51364184e-01-0.j  4.26401433e-01+0.j -3.84900179e-01+0.j\n",
      "  -2.22222222e-01+0.j  5.44331054e-01+0.j -3.33333333e-01+0.j\n",
      "   2.99644383e-01+0.j]\n",
      " [ 7.02728369e-01+0.j -4.26401433e-01+0.j -3.84900179e-01+0.j\n",
      "  -1.11111111e-01+0.j -2.72165527e-01+0.j  1.50117824e-14+0.j\n",
      "  -2.99644383e-01+0.j]\n",
      " [ 3.51364184e-01-0.j  4.26401433e-01+0.j  1.92450090e-01+0.j\n",
      "  -2.22222222e-01+0.j -2.72165527e-01+0.j  6.66666667e-01+0.j\n",
      "   2.99644383e-01+0.j]\n",
      " [ 2.86887655e-01-0.j  5.22232968e-01+0.j  1.57134840e-01+0.j\n",
      "   6.35052896e-01+0.j -2.22222222e-01+0.j -2.72165527e-01+0.j\n",
      "  -3.05823268e-01+0.j]\n",
      " [ 3.51364184e-01-0.j -4.26401433e-01+0.j  3.84900179e-01+0.j\n",
      "   4.44444444e-01-0.j  2.72165527e-01-0.j -3.15614314e-14+0.j\n",
      "   5.24377671e-01+0.j]\n",
      " [ 2.22222222e-01-0.j  4.49444642e-15+0.j  6.08580619e-01+0.j\n",
      "  -3.51364184e-01+0.j  4.30331483e-01-0.j -1.90068816e-14+0.j\n",
      "  -5.21157307e-01+0.j]\n",
      " [ 6.41500299e-02-0.j  1.45614258e-15+0.j  3.51364184e-01+0.j\n",
      "  -4.05720413e-01+0.j -4.96903995e-01+0.j -6.08580619e-01+0.j\n",
      "   3.00890311e-01+0.j]]\n"
     ]
    }
   ],
   "source": [
    "#Eigenvalues and eigenvectors of the Hamiltonian for L = 0 to L = 6 for some parameters conditions\n",
    "N = 3\n",
    "L = 6\n",
    "adim_freq = 0.5\n",
    "g_2D = 0.5\n",
    "for L in range(0, L + 1 ):\n",
    "    H = Hamiltonian (N, L, g_2D)\n",
    "    eigenvalues, eigenvectors = np.linalg.eig(H)\n",
    "    print('Eigenvalues for L = ', L,':' , eigenvalues)\n",
    "    print('Eigenvectors for L =', L, ':', eigenvectors)"
   ]
  },
  {
   "cell_type": "code",
   "execution_count": 20,
   "id": "9767f7b1-fbb6-4308-8a75-b1bdc10d0d0d",
   "metadata": {},
   "outputs": [
    {
     "data": {
      "image/png": "[encoded data removed]",
      "text/plain": [
       "<Figure size 1000x600 with 1 Axes>"
      ]
     },
     "metadata": {},
     "output_type": "display_data"
    }
   ],
   "source": [
    "#Plots of the ground state energy for different g\n",
    "N = 3\n",
    "L_max = 6\n",
    "adim_freq = 0.5\n",
    "g_2D_values = np.linspace(0, 1, 100) \n",
    "\n",
    "# Initilize list to store the g.s. energy for every L and g_2D \n",
    "ground_state_energies = {L: [] for L in range(L_max + 1)}\n",
    "\n",
    "#Eigenvalues calculation\n",
    "for L in range(0, L_max + 1):\n",
    "    for g_2D in g_2D_values:\n",
    "        H = Hamiltonian(N, L, g_2D)  \n",
    "        eigenvalues, _ = np.linalg.eig(H)\n",
    "        ground_state_energies[L].append(np.min(eigenvalues))  \n",
    "\n",
    "# Plot\n",
    "plt.figure(figsize=(10, 6))\n",
    "\n",
    "for L, ground_state in ground_state_energies.items():\n",
    "    plt.plot(g_2D_values, ground_state, label=f\"L={L}\")\n",
    "\n",
    "plt.xlabel('$g_{2D}$')\n",
    "plt.ylabel('$E_{g.s.}$')\n",
    "plt.legend(\n",
    "    title=\"Angular Momentum $L$\",\n",
    "    loc='upper center',\n",
    "    bbox_to_anchor=(0.5, -0.1),  # Posición fuera del gráfico\n",
    "    ncol=L_max + 1,  # Una columna por cada valor de L\n",
    "    fontsize='small'\n",
    ")\n",
    "plt.show()\n"
   ]
  },
  {
   "cell_type": "code",
   "execution_count": 31,
   "id": "a0aed2fb-53b3-4e36-a27f-0d87234fd729",
   "metadata": {},
   "outputs": [],
   "source": [
    "# Density operator 2nd quantization\n",
    "def density(eigenvector, N, L,z):\n",
    "    rho = 0\n",
    "    basis = fock_basis(N, L)\n",
    "    for i in range(L):\n",
    "        for j in range(L):\n",
    "            for k in range(len(eigenvector)):\n",
    "                new_state1 = basis[k].copy()\n",
    "                new_state1[j] -= 1\n",
    "                for l in range(len(eigenvector)):\n",
    "                    new_state2 = basis[l].copy()\n",
    "                    new_state2[i] -= 1\n",
    "                    if new_state2 == new_state1:\n",
    "                        rho +=np.sqrt(basis[l,i]*basis[k,j])*eigenvector[l]*np.conjugate(eigenvector[k])*z**j*np.exp(-np.abs(z)**2/2)/np.sqrt(np.pi*math.factorial(j))*np.conjugate(z**i*np.exp(-np.abs(z)**2/2)/np.sqrt(np.pi*math.factorial(i))) \n",
    "\n",
    "                    \n",
    "                \n",
    "                \n",
    "            \n",
    "        \n",
    "        \n"
   ]
  },
  {
   "cell_type": "code",
   "execution_count": 11,
   "id": "d61b6fc4-8059-4ab1-9475-f2c1787417ba",
   "metadata": {},
   "outputs": [
    {
     "ename": "SyntaxError",
     "evalue": "invalid syntax (2344584028.py, line 8)",
     "output_type": "error",
     "traceback": [
      "\u001b[1;36m  Cell \u001b[1;32mIn[11], line 8\u001b[1;36m\u001b[0m\n\u001b[1;33m    for l in range(L:\u001b[0m\n\u001b[1;37m                    ^\u001b[0m\n\u001b[1;31mSyntaxError\u001b[0m\u001b[1;31m:\u001b[0m invalid syntax\n"
     ]
    }
   ],
   "source": [
    "# Density operator 2nd quantization\n",
    "def density(eigenvector, N, L,z1,z2):\n",
    "    rho = 0\n",
    "    basis = fock_basis(N, L)\n",
    "    for i in range(L):\n",
    "        for j in range(L):\n",
    "            for k in range(L):\n",
    "                for l in range(L:\n",
    "                    for m in range(len(eigenvector)):\n",
    "                        new_state1 = basis[m].copy()\n",
    "                        new_state1[k] -= 1\n",
    "                        new_state1[l] -= 1\n",
    "                        for n in range(len(eigenvector)):\n",
    "                            new_state2 = basis[n].copy()\n",
    "                            new_state2[i] -= 1\n",
    "                            new_state2[j] -= 1\n",
    "                            if new_state2 == new_state1:\n",
    "                                rho +=np.sqrt(basis[m,k]*basis[m,l]*basis[n,i]*basis[n,j])*eigenvector[n]*np.conjugate(eigenvector[m])*np.conjugate(z1**i*np.exp(-np.abs(z1)**2/2)/np.sqrt(np.pi*math.factorial(i))*z2**j*np.exp(-np.abs(z2)**2/2)/np.sqrt(np.pi*math.factorial(j)))*z1**k*np.exp(-np.abs(z1)**2/2)/np.sqrt(np.pi*math.factorial(k))*z2**l*np.exp(-np.abs(z2)**2/2)/np.sqrt(np.pi*math.factorial(l)) \n",
    "\n",
    "           "
   ]
  },
  {
   "cell_type": "code",
   "execution_count": 13,
   "id": "9f0bb760",
   "metadata": {},
   "outputs": [
    {
     "name": "stdout",
     "output_type": "stream",
     "text": [
      "6\n"
     ]
    }
   ],
   "source": [
    "a = 3\n",
    "a *= 2\n",
    "print(a)"
   ]
  }
 ],
 "metadata": {
  "kernelspec": {
   "display_name": "base",
   "language": "python",
   "name": "python3"
  },
  "language_info": {
   "codemirror_mode": {
    "name": "ipython",
    "version": 3
   },
   "file_extension": ".py",
   "mimetype": "text/x-python",
   "name": "python",
   "nbconvert_exporter": "python",
   "pygments_lexer": "ipython3",
   "version": "3.12.4"
  }
 },
 "nbformat": 4,
 "nbformat_minor": 5
}
